{
  "nbformat": 4,
  "nbformat_minor": 0,
  "metadata": {
    "colab": {
      "provenance": [],
      "authorship_tag": "ABX9TyNFIFnvvC4qlUKIV0t2YzGQ",
      "include_colab_link": true
    },
    "kernelspec": {
      "name": "python3",
      "display_name": "Python 3"
    },
    "language_info": {
      "name": "python"
    }
  },
  "cells": [
    {
      "cell_type": "markdown",
      "metadata": {
        "id": "view-in-github",
        "colab_type": "text"
      },
      "source": [
        "<a href=\"https://colab.research.google.com/github/Rini06-jain/Data-Analysis/blob/main/DataAnalytics.ipynb\" target=\"_parent\"><img src=\"https://colab.research.google.com/assets/colab-badge.svg\" alt=\"Open In Colab\"/></a>"
      ]
    },
    {
      "cell_type": "markdown",
      "source": [
        "# **Task 1 : Data Cleaning ( Managing missing values and Removing outliers )**"
      ],
      "metadata": {
        "id": "3FyZBGuPi6j6"
      }
    },
    {
      "cell_type": "code",
      "execution_count": 1,
      "metadata": {
        "colab": {
          "base_uri": "https://localhost:8080/"
        },
        "id": "9yNRGeXqhsIK",
        "outputId": "ae416572-bad8-4254-ce4e-59d4b051de97"
      },
      "outputs": [
        {
          "output_type": "stream",
          "name": "stdout",
          "text": [
            "   PassengerId  Survived  Pclass  \\\n",
            "0            1         0       3   \n",
            "1            2         1       1   \n",
            "2            3         1       3   \n",
            "3            4         1       1   \n",
            "4            5         0       3   \n",
            "\n",
            "                                                Name     Sex   Age  SibSp  \\\n",
            "0                            Braund, Mr. Owen Harris    male  22.0      1   \n",
            "1  Cumings, Mrs. John Bradley (Florence Briggs Th...  female  38.0      1   \n",
            "2                             Heikkinen, Miss. Laina  female  26.0      0   \n",
            "3       Futrelle, Mrs. Jacques Heath (Lily May Peel)  female  35.0      1   \n",
            "4                           Allen, Mr. William Henry    male  35.0      0   \n",
            "\n",
            "   Parch            Ticket     Fare Cabin Embarked  \n",
            "0      0         A/5 21171   7.2500   NaN        S  \n",
            "1      0          PC 17599  71.2833   C85        C  \n",
            "2      0  STON/O2. 3101282   7.9250   NaN        S  \n",
            "3      0            113803  53.1000  C123        S  \n",
            "4      0            373450   8.0500   NaN        S  \n"
          ]
        }
      ],
      "source": [
        "import numpy as np\n",
        "import pandas as pd\n",
        "import matplotlib.pyplot as plt\n",
        "import seaborn as sns\n",
        "import statistics as st\n",
        "df = pd.read_csv(\"/content/train.csv\")\n",
        "print(df.head())"
      ]
    },
    {
      "cell_type": "code",
      "source": [
        "print(df.columns)\n",
        "print(df.info())"
      ],
      "metadata": {
        "colab": {
          "base_uri": "https://localhost:8080/"
        },
        "id": "c3QT9Amgjapc",
        "outputId": "19326232-1437-4723-a72b-519795d992a8"
      },
      "execution_count": 2,
      "outputs": [
        {
          "output_type": "stream",
          "name": "stdout",
          "text": [
            "Index(['PassengerId', 'Survived', 'Pclass', 'Name', 'Sex', 'Age', 'SibSp',\n",
            "       'Parch', 'Ticket', 'Fare', 'Cabin', 'Embarked'],\n",
            "      dtype='object')\n",
            "<class 'pandas.core.frame.DataFrame'>\n",
            "RangeIndex: 891 entries, 0 to 890\n",
            "Data columns (total 12 columns):\n",
            " #   Column       Non-Null Count  Dtype  \n",
            "---  ------       --------------  -----  \n",
            " 0   PassengerId  891 non-null    int64  \n",
            " 1   Survived     891 non-null    int64  \n",
            " 2   Pclass       891 non-null    int64  \n",
            " 3   Name         891 non-null    object \n",
            " 4   Sex          891 non-null    object \n",
            " 5   Age          714 non-null    float64\n",
            " 6   SibSp        891 non-null    int64  \n",
            " 7   Parch        891 non-null    int64  \n",
            " 8   Ticket       891 non-null    object \n",
            " 9   Fare         891 non-null    float64\n",
            " 10  Cabin        204 non-null    object \n",
            " 11  Embarked     889 non-null    object \n",
            "dtypes: float64(2), int64(5), object(5)\n",
            "memory usage: 83.7+ KB\n",
            "None\n"
          ]
        }
      ]
    },
    {
      "cell_type": "markdown",
      "source": [
        "# *Missing Values*"
      ],
      "metadata": {
        "id": "VeJmFMHFjqeB"
      }
    },
    {
      "cell_type": "code",
      "source": [
        "print(df.isnull().sum())"
      ],
      "metadata": {
        "colab": {
          "base_uri": "https://localhost:8080/"
        },
        "id": "G3HoctJAkH_x",
        "outputId": "6afa7af3-52bd-4f39-8f9c-cc8fc34ea63d"
      },
      "execution_count": 3,
      "outputs": [
        {
          "output_type": "stream",
          "name": "stdout",
          "text": [
            "PassengerId      0\n",
            "Survived         0\n",
            "Pclass           0\n",
            "Name             0\n",
            "Sex              0\n",
            "Age            177\n",
            "SibSp            0\n",
            "Parch            0\n",
            "Ticket           0\n",
            "Fare             0\n",
            "Cabin          687\n",
            "Embarked         2\n",
            "dtype: int64\n"
          ]
        }
      ]
    },
    {
      "cell_type": "code",
      "source": [
        "df['Age'].fillna(np.mean(df['Age']),inplace=True)\n",
        "df.drop('Cabin',axis=1,inplace=True)\n",
        "df['Embarked'].fillna(st.mode(df['Embarked']),inplace=True)\n",
        "print(df.isnull().sum())"
      ],
      "metadata": {
        "colab": {
          "base_uri": "https://localhost:8080/"
        },
        "id": "zQi2d_tAkdei",
        "outputId": "8b94c142-6f4d-40de-ee2a-65d2cb677aa4"
      },
      "execution_count": 4,
      "outputs": [
        {
          "output_type": "stream",
          "name": "stdout",
          "text": [
            "PassengerId    0\n",
            "Survived       0\n",
            "Pclass         0\n",
            "Name           0\n",
            "Sex            0\n",
            "Age            0\n",
            "SibSp          0\n",
            "Parch          0\n",
            "Ticket         0\n",
            "Fare           0\n",
            "Embarked       0\n",
            "dtype: int64\n"
          ]
        }
      ]
    },
    {
      "cell_type": "markdown",
      "source": [
        "# *Removing Outliers*"
      ],
      "metadata": {
        "id": "Jyh1CPnVkunJ"
      }
    },
    {
      "cell_type": "code",
      "source": [
        "sns.boxplot(df)\n",
        "plt.show()"
      ],
      "metadata": {
        "colab": {
          "base_uri": "https://localhost:8080/",
          "height": 430
        },
        "id": "Zh7ahqxPk1ZG",
        "outputId": "77790b4a-88ea-4a38-99a1-fc4283549e2f"
      },
      "execution_count": 5,
      "outputs": [
        {
          "output_type": "display_data",
          "data": {
            "text/plain": [
              "<Figure size 640x480 with 1 Axes>"
            ],
            "image/png": "[encoded data removed]"
          },
          "metadata": {}
        }
      ]
    },
    {
      "cell_type": "code",
      "source": [
        "q=df['Fare'].quantile(.85)\n",
        "df_new=df[df['Fare']<q]\n",
        "sns.boxplot(df_new)\n",
        "plt.show()"
      ],
      "metadata": {
        "colab": {
          "base_uri": "https://localhost:8080/",
          "height": 430
        },
        "id": "7ETbbIBslF0l",
        "outputId": "55cf223d-6071-4213-fd0e-b4192bf69f9d"
      },
      "execution_count": 6,
      "outputs": [
        {
          "output_type": "display_data",
          "data": {
            "text/plain": [
              "<Figure size 640x480 with 1 Axes>"
            ],
            "image/png": "[encoded data removed]"
          },
          "metadata": {}
        }
      ]
    },
    {
      "cell_type": "markdown",
      "source": [
        "# **Task 2 : Calculate Summary Statistics (Mean , Median , Mode , Standard deviation )**"
      ],
      "metadata": {
        "id": "izIGV4COlVXu"
      }
    },
    {
      "cell_type": "code",
      "source": [
        "print(df_new.describe())"
      ],
      "metadata": {
        "colab": {
          "base_uri": "https://localhost:8080/"
        },
        "id": "AqKNTaZGmdZI",
        "outputId": "e8b8be71-7d1b-48d0-d6ad-21780d1e41f5"
      },
      "execution_count": 7,
      "outputs": [
        {
          "output_type": "stream",
          "name": "stdout",
          "text": [
            "       PassengerId    Survived      Pclass         Age       SibSp  \\\n",
            "count   755.000000  755.000000  755.000000  755.000000  755.000000   \n",
            "mean    445.321854    0.328477    2.498013   28.940940    0.439735   \n",
            "std     259.832600    0.469971    0.719883   12.737568    0.908264   \n",
            "min       1.000000    0.000000    1.000000    0.420000    0.000000   \n",
            "25%     214.500000    0.000000    2.000000   22.000000    0.000000   \n",
            "50%     448.000000    0.000000    3.000000   29.699118    0.000000   \n",
            "75%     669.500000    1.000000    3.000000   34.000000    1.000000   \n",
            "max     891.000000    1.000000    3.000000   80.000000    5.000000   \n",
            "\n",
            "            Parch        Fare  \n",
            "count  755.000000  755.000000  \n",
            "mean     0.337748   16.735816  \n",
            "std      0.788574   11.968321  \n",
            "min      0.000000    0.000000  \n",
            "25%      0.000000    7.895800  \n",
            "50%      0.000000   12.350000  \n",
            "75%      0.000000   26.000000  \n",
            "max      6.000000   55.900000  \n"
          ]
        }
      ]
    },
    {
      "cell_type": "code",
      "source": [
        "print('Age - ' ,st.mode(df_new['Age']))\n",
        "print('Fare - ' ,st.mode(df_new['Fare']))\n",
        "print('Embarked - ' ,st.mode(df_new['Embarked']))\n",
        "print('Survived - ' ,st.mode(df_new['Survived']))\n",
        "print('Sex - ' ,st.mode(df_new['Sex']))\n",
        "print('Pclass - ' ,st.mode(df_new['Pclass']))\n",
        "print('Parch - ' ,st.mode(df_new['Parch']))\n",
        "print('SibSp - ' ,st.mode(df_new['SibSp']))"
      ],
      "metadata": {
        "colab": {
          "base_uri": "https://localhost:8080/"
        },
        "id": "mQMPSJFRmyZV",
        "outputId": "3f06e14b-24c5-4aaa-a7d4-ef8de9e3e495"
      },
      "execution_count": 8,
      "outputs": [
        {
          "output_type": "stream",
          "name": "stdout",
          "text": [
            "Age -  29.69911764705882\n",
            "Fare -  8.05\n",
            "Embarked -  S\n",
            "Survived -  0\n",
            "Sex -  male\n",
            "Pclass -  3\n",
            "Parch -  0\n",
            "SibSp -  0\n"
          ]
        }
      ]
    },
    {
      "cell_type": "code",
      "source": [
        "print('Age - ' ,st.median(df_new['Age']))\n",
        "print('Fare - ' ,st.median(df_new['Fare']))\n",
        "print('Embarked - ' ,st.median(df_new['Embarked']))\n",
        "print('Survived - ' ,st.median(df_new['Survived']))\n",
        "print('Sex - ' ,st.median(df_new['Sex']))\n",
        "print('Pclass - ' ,st.median(df_new['Pclass']))\n",
        "print('Parch - ' ,st.median(df_new['Parch']))\n",
        "print('SibSp - ' ,st.median(df_new['SibSp']))"
      ],
      "metadata": {
        "colab": {
          "base_uri": "https://localhost:8080/"
        },
        "id": "cECTmSrXnEHQ",
        "outputId": "ea06bbef-a28a-433c-d46e-354bf52e1a7e"
      },
      "execution_count": 9,
      "outputs": [
        {
          "output_type": "stream",
          "name": "stdout",
          "text": [
            "Age -  29.69911764705882\n",
            "Fare -  12.35\n",
            "Embarked -  S\n",
            "Survived -  0\n",
            "Sex -  male\n",
            "Pclass -  3\n",
            "Parch -  0\n",
            "SibSp -  0\n"
          ]
        }
      ]
    }
  ]
}